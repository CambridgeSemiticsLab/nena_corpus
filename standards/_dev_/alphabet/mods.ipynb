{
 "cells": [
  {
   "cell_type": "markdown",
   "metadata": {},
   "source": [
    "I've discovered that manually editing the .json files composes the strings! This is something my machine is probably doing. I re-decompose them here."
   ]
  },
  {
   "cell_type": "code",
   "execution_count": 3,
   "metadata": {},
   "outputs": [],
   "source": [
    "from pathlib import Path\n",
    "import json\n",
    "import unicodedata"
   ]
  },
  {
   "cell_type": "code",
   "execution_count": 6,
   "metadata": {},
   "outputs": [
    {
     "data": {
      "text/plain": [
       "{'decomposed_regex': 'b(?![̀-ͯ])|B(?![̀-ͯ])',\n",
       " 'decomposed_string': 'b',\n",
       " 'decomposed_upper_string': 'B',\n",
       " 'decomposed_codepoints': [98],\n",
       " 'decomposed_upper_codepoints': [66],\n",
       " 'composed_string': 'b',\n",
       " 'composed_upper_string': 'B',\n",
       " 'composed_codepoints': [98],\n",
       " 'composed_upper_codepoints': [66],\n",
       " 'base_string': 'b',\n",
       " 'base_upper_string': 'B',\n",
       " 'base_code': 98,\n",
       " 'base_upper_code': 66,\n",
       " 'decomposed_accent_string': '',\n",
       " 'decomposed_accent_codes': [],\n",
       " 'phonetic_class': 'consonant',\n",
       " 'phonetic_place': 'labial',\n",
       " 'phonetic_manner': 'affricative',\n",
       " 'phonation': 'voiced'}"
      ]
     },
     "execution_count": 6,
     "metadata": {},
     "output_type": "execute_result"
    }
   ],
   "source": [
    "alpha = Path('../../alphabet/alphabet.json')\n",
    "\n",
    "# fix composition of strings\n",
    "alpha_data = json.loads(alpha.read_text())\n",
    "\n",
    "alpha_data[0]"
   ]
  },
  {
   "cell_type": "code",
   "execution_count": 13,
   "metadata": {},
   "outputs": [],
   "source": [
    "for ad in alpha_data:\n",
    "    \n",
    "    for k,v in ad.items():\n",
    "        if ('decomposed' in k and 'string' in k) or ('decomposed' in k and 'regex' in k):\n",
    "            ad[k] = unicodedata.normalize('NFD', v)"
   ]
  },
  {
   "cell_type": "code",
   "execution_count": 14,
   "metadata": {},
   "outputs": [],
   "source": [
    "with open(alpha, 'w') as outfile:\n",
    "    json.dump(alpha_data, outfile, ensure_ascii=False, indent=4)"
   ]
  },
  {
   "cell_type": "code",
   "execution_count": null,
   "metadata": {},
   "outputs": [],
   "source": []
  }
 ],
 "metadata": {
  "kernelspec": {
   "display_name": "Python 3",
   "language": "python",
   "name": "python3"
  },
  "language_info": {
   "codemirror_mode": {
    "name": "ipython",
    "version": 3
   },
   "file_extension": ".py",
   "mimetype": "text/x-python",
   "name": "python",
   "nbconvert_exporter": "python",
   "pygments_lexer": "ipython3",
   "version": "3.8.0"
  }
 },
 "nbformat": 4,
 "nbformat_minor": 4
}
