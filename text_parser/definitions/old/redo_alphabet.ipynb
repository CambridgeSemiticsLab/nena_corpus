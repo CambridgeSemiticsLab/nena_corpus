{
 "cells": [
  {
   "cell_type": "code",
   "execution_count": 1,
   "metadata": {},
   "outputs": [],
   "source": [
    "import json\n",
    "import unicodedata as ucd\n",
    "from pathlib import Path"
   ]
  },
  {
   "cell_type": "code",
   "execution_count": 2,
   "metadata": {},
   "outputs": [],
   "source": [
    "file = Path('punct_begin.json')\n",
    "with open(file,'r') as infile:\n",
    "    letters = json.load(infile)"
   ]
  },
  {
   "cell_type": "code",
   "execution_count": 3,
   "metadata": {},
   "outputs": [],
   "source": [
    "attrib_keys = '''\n",
    "phonetic_class\n",
    "phonetic_place\n",
    "phonetic_manner\n",
    "phonation\n",
    "'''.strip().split()\n",
    "\n",
    "attrib_keys = '''\n",
    "class\n",
    "position\n",
    "modifies\n",
    "'''.strip().split()"
   ]
  },
  {
   "cell_type": "code",
   "execution_count": 4,
   "metadata": {},
   "outputs": [],
   "source": [
    "alph2 = {}\n",
    "\n",
    "for data in letters:\n",
    "    key = ucd.normalize('NFD', data['decomposed_string'])\n",
    "    alph2[key] = {\n",
    "        'regex': ucd.normalize('NFD', data['decomposed_regex']),\n",
    "        'attributes': {k:data[k] for k in attrib_keys if k in data},\n",
    "    }"
   ]
  },
  {
   "cell_type": "code",
   "execution_count": 5,
   "metadata": {},
   "outputs": [],
   "source": [
    "newfile = file.stem + '2' + '.json'\n",
    "with open(newfile, 'w') as outfile:\n",
    "    json.dump(alph2, outfile, ensure_ascii=True, indent=2)"
   ]
  },
  {
   "cell_type": "code",
   "execution_count": null,
   "metadata": {},
   "outputs": [],
   "source": []
  }
 ],
 "metadata": {
  "kernelspec": {
   "display_name": "Python 3",
   "language": "python",
   "name": "python3"
  },
  "language_info": {
   "codemirror_mode": {
    "name": "ipython",
    "version": 3
   },
   "file_extension": ".py",
   "mimetype": "text/x-python",
   "name": "python",
   "nbconvert_exporter": "python",
   "pygments_lexer": "ipython3",
   "version": "3.8.5"
  }
 },
 "nbformat": 4,
 "nbformat_minor": 4
}
