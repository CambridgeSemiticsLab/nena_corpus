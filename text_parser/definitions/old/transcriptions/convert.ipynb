{
 "cells": [
  {
   "cell_type": "code",
   "execution_count": 11,
   "metadata": {},
   "outputs": [],
   "source": [
    "import json\n",
    "from pathlib import Path\n",
    "import unicodedata as ucd"
   ]
  },
  {
   "cell_type": "code",
   "execution_count": 17,
   "metadata": {},
   "outputs": [
    {
     "name": "stdout",
     "output_type": "stream",
     "text": [
      "Urmi_C/fuzzy.json\n"
     ]
    }
   ],
   "source": [
    "directory = Path('Urmi_C/')\n",
    "\n",
    "for file in directory.glob('*.json'):\n",
    "    \n",
    "    print(file)\n",
    "    \n",
    "    with open(file, 'r') as infile:\n",
    "        data = json.load(infile)\n",
    "    \n",
    "    data = {ucd.normalize('NFD', k):v for k,v in data.items()}\n",
    "        \n",
    "    with open(file, 'w') as outfile:\n",
    "        json.dump(data, outfile, ensure_ascii=True, indent=12)"
   ]
  },
  {
   "cell_type": "code",
   "execution_count": null,
   "metadata": {},
   "outputs": [],
   "source": []
  }
 ],
 "metadata": {
  "kernelspec": {
   "display_name": "Python 3",
   "language": "python",
   "name": "python3"
  },
  "language_info": {
   "codemirror_mode": {
    "name": "ipython",
    "version": 3
   },
   "file_extension": ".py",
   "mimetype": "text/x-python",
   "name": "python",
   "nbconvert_exporter": "python",
   "pygments_lexer": "ipython3",
   "version": "3.8.5"
  }
 },
 "nbformat": 4,
 "nbformat_minor": 4
}
