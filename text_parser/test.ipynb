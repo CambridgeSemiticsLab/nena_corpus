{
 "cells": [
  {
   "cell_type": "code",
   "execution_count": 1,
   "metadata": {},
   "outputs": [],
   "source": [
    "from nena_parser import NenaLexerParser"
   ]
  },
  {
   "cell_type": "code",
   "execution_count": 2,
   "metadata": {},
   "outputs": [],
   "source": [
    "with open('../texts/alpha/Village Life (6).nena', 'r') as infile:\n",
    "    test = infile.read()"
   ]
  },
  {
   "cell_type": "code",
   "execution_count": 3,
   "metadata": {},
   "outputs": [
    {
     "name": "stdout",
     "output_type": "stream",
     "text": [
      "dialect:: Urmi_C\n",
      "title:: Village Life (6)\n",
      "encoding:: UTF8\n",
      "source:: cu vol 4 texts.html\n",
      "text_id:: B17\n",
      "place:: Canda, Georgia\n",
      "speakers:: MB=Merab Badalov, GK=Geoffrey Khan\n",
      "\n",
      "(1) ⁺ṱā̀ltaˈ surùytanˈ ⁺ṱálaxva ⁺badùšəva šə́mma ...  c-amráxlə ⁺badùša.ˈ ⁺badúša\n",
      "muxrə́ppa k̭èsələ.ˈ ṱína c-odáxva ⁺sùvaġˈ yánət ʾo ⁺badúša ⁺ṱā̀sva.ˈ xá m-dēn-ṱ-íva\n",
      "mxáyu ⁺maṱṱùsuˈ ʾó xína yár manpə̀lva k̭a-⁺dávən.ˈ ʾə́n munpə̀lvalux,ˈ ⁺bək̭ràmutva.ˈ\n",
      "dìyyux=va.ˈ ⁺xárta ʾé xíta mxayòxva.ˈ ⁺ṱlá ɟanàyˈ ⁺ʾàrp̭aˈ ci-⁺ṱaláxva ⁺badùšə.ˈ\n",
      "ci-⁺k̭ármaxva k̭ésə k̭a-pìšə,ˈ labláxva sə́tva bèta.ˈ yāl-sùrəxva xína.ˈ (2)\n",
      "ci-⁺ṱaláxva mə́drə tàsma.ˈ tásma ci-mattàxvalə ʾátxaˈ ʾódaxva xá ⁺yàzan,ˈ\n",
      " ⁺yàzan.ˈ ⁺ṱlá ɟanáy ɟavày=naˈ ⁺ṱlá ɟu-⁺tàrrəna.ˈ ɟárət ʾé tásma mə́n dé ⁺yázan\n",
      "ɟannəvvə̀tta.ˈ ʾə́n ɟnivávalux xá tàsmaˈ ⁺xárta b-dáyən mxàyətˈ marrùk̭ətˈ\n",
      "ɟar-ʾe-xìta ɟannəvvə́tta.ˈ (3) ʾá-spar ʾáyən=da bəɟnàvotˈ ⁺xárta ʾe-d-ṱlà\n",
      "bəɟnávot.ˈ ʾà-sparˈ\n"
     ]
    }
   ],
   "source": [
    "print(test[:1000])"
   ]
  },
  {
   "cell_type": "code",
   "execution_count": 4,
   "metadata": {},
   "outputs": [
    {
     "name": "stderr",
     "output_type": "stream",
     "text": [
      "Parser debugging for NenaLexerParser.<locals>.NenaParser written to parser.out\n"
     ]
    }
   ],
   "source": [
    "lexer, parser = NenaLexerParser('config.json')"
   ]
  },
  {
   "cell_type": "code",
   "execution_count": 9,
   "metadata": {},
   "outputs": [],
   "source": [
    "from tf.fabric import Fabric"
   ]
  },
  {
   "cell_type": "markdown",
   "metadata": {},
   "source": [
    "##### "
   ]
  },
  {
   "cell_type": "code",
   "execution_count": 5,
   "metadata": {},
   "outputs": [],
   "source": [
    "lexs = list(lexer.tokenize(test))"
   ]
  },
  {
   "cell_type": "code",
   "execution_count": 6,
   "metadata": {},
   "outputs": [],
   "source": [
    "#lexs"
   ]
  },
  {
   "cell_type": "code",
   "execution_count": 7,
   "metadata": {},
   "outputs": [],
   "source": [
    "parse = parser.parse(l for l in lexs)"
   ]
  },
  {
   "cell_type": "code",
   "execution_count": 14,
   "metadata": {},
   "outputs": [
    {
     "data": {
      "text/plain": [
       "{'dialect': 'Urmi_C',\n",
       " 'title': 'Village Life (6)',\n",
       " 'encoding': 'UTF8',\n",
       " 'source': 'cu vol 4 texts.html',\n",
       " 'text_id': 'B17',\n",
       " 'place': 'Canda, Georgia',\n",
       " 'speakers': {'MB': 'Merab Badalov', 'GK': 'Geoffrey Khan'}}"
      ]
     },
     "execution_count": 14,
     "metadata": {},
     "output_type": "execute_result"
    }
   ],
   "source": [
    "parse[0]"
   ]
  },
  {
   "cell_type": "code",
   "execution_count": 15,
   "metadata": {},
   "outputs": [
    {
     "name": "stdout",
     "output_type": "stream",
     "text": [
      "This is Text-Fabric 8.4.14\n",
      "Api reference : https://annotation.github.io/text-fabric/tf/cheatsheet.html\n",
      "\n",
      "0 features found and 0 ignored\n",
      "  0.02s Warp feature \"otype\" not found in\n",
      "~/Downloads/text-fabric-data/\n",
      "\t~/text-fabric-data/\n",
      "\t~/github/text-fabric-data/\n",
      "\t~/Dropbox/text-fabric-data/\n",
      "\t/mnt/shared/text-fabric-data/\n",
      "  0.03s Warp feature \"oslots\" not found in\n",
      "~/Downloads/text-fabric-data/\n",
      "\t~/text-fabric-data/\n",
      "\t~/github/text-fabric-data/\n",
      "\t~/Dropbox/text-fabric-data/\n",
      "\t/mnt/shared/text-fabric-data/\n",
      "  0.04s Warp feature \"otext\" not found. Working without Text-API\n",
      "\n"
     ]
    }
   ],
   "source": [
    "TF = Fabric()"
   ]
  },
  {
   "cell_type": "code",
   "execution_count": 27,
   "metadata": {},
   "outputs": [],
   "source": [
    "import time"
   ]
  },
  {
   "cell_type": "code",
   "execution_count": 29,
   "metadata": {},
   "outputs": [
    {
     "name": "stdout",
     "output_type": "stream",
     "text": [
      "  0.00s FART!\n",
      "   |     2.00s FART!\n",
      "  2.00s FART!\n"
     ]
    }
   ],
   "source": [
    "TF.tmObj.indent(0, reset=True)\n",
    "TF.tmObj.info('FART!')\n",
    "TF.tmObj.indent(1, reset=True)\n",
    "time.sleep(2)\n",
    "TF.tmObj.info('FART!')\n",
    "TF.tmObj.indent(0)\n",
    "TF.tmObj.info('FART!')"
   ]
  },
  {
   "cell_type": "code",
   "execution_count": null,
   "metadata": {},
   "outputs": [],
   "source": []
  }
 ],
 "metadata": {
  "kernelspec": {
   "display_name": "Python 3",
   "language": "python",
   "name": "python3"
  },
  "language_info": {
   "codemirror_mode": {
    "name": "ipython",
    "version": 3
   },
   "file_extension": ".py",
   "mimetype": "text/x-python",
   "name": "python",
   "nbconvert_exporter": "python",
   "pygments_lexer": "ipython3",
   "version": "3.8.5"
  }
 },
 "nbformat": 4,
 "nbformat_minor": 4
}
