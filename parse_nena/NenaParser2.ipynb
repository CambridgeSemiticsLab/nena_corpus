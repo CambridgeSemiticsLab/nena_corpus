{
 "cells": [
  {
   "cell_type": "markdown",
   "metadata": {},
   "source": [
    "# NenaParser: A parser for Nena Standard Text format\n",
    "\n",
    "The goal of this parser is to parse texts written in the plaintext\n",
    "[NENA markup format][nenamarkup] and deliver a structured\n",
    "list of words and their features, as well as paragraphing and line \n",
    "marks, which can be stored in a data format such as [Text-Fabric][textfabric], \n",
    "[Text-as-Graph][textasgraph] or (less optimally), XML or other hierarchical \n",
    "structures. \n",
    "\n",
    "For the Nena Markup parser, we make use of [Sly][sly], a Python implementation \n",
    "of the lex/yacc type of parser generators.\n",
    "\n",
    "[nenamarkup]: ../docs/nena_format.md\n",
    "[sly]: https://sly.readthedocs.io/en/latest/\n",
    "[textfabric]: https://github.com/annotation/text-fabric\n",
    "[textasgraph]: https://www.balisage.net/Proceedings/vol19/print/Dekker01/BalisageVol19-Dekker01.html"
   ]
  },
  {
   "cell_type": "code",
   "execution_count": 23,
   "metadata": {},
   "outputs": [],
   "source": [
    "import re\n",
    "import json\n",
    "from sly import Lexer, Parser\n",
    "import unicodedata\n",
    "from pprint import pprint\n",
    "\n",
    "# prepare alphabet and punctuation standards for processing\n",
    "alphabet_std = '../standards/alphabet.json'\n",
    "punctuation_std = '../standards/punctuation.json' \n",
    "\n",
    "with open(alphabet_std, 'r') as infile:\n",
    "    alphabet_data = {\n",
    "        re.compile(data['decomposed_regex']):data \n",
    "            for data in json.load(infile)\n",
    "    }\n",
    "with open(punctuation_std, 'r') as infile:\n",
    "    punct_data = {\n",
    "        re.compile(data['regex']):data \n",
    "            for data in json.load(infile)\n",
    "    }\n",
    "    \n",
    "# compile regexes for matching\n",
    "alphabet_re = '|'.join(data['decomposed_regex'] for letter,data in alphabet_data.items())\n",
    "\n",
    "punct_begin_re = '|'.join(\n",
    "    data['regex'] for punct, data in punct_data.items()\n",
    "        if data['position'] == 'begin'\n",
    ")\n",
    "punct_end_re = '|'.join(\n",
    "    data['regex'] for punct, data in punct_data.items()\n",
    "        if data['position'] == 'end'\n",
    ")"
   ]
  },
  {
   "cell_type": "code",
   "execution_count": 24,
   "metadata": {},
   "outputs": [
    {
     "data": {
      "text/plain": [
       "'b(?![̀-ͯ])|B(?![̀-ͯ])|c(?![̀-ͯ])|C(?![̀-ͯ])|č(?![̀-ͯ])|Č(?![̀-ͯ])|c̭(?![̀-ͯ])|C̭(?![̀-ͯ])|č̣(?![̀-ͯ])|Č̣(?![̀-ͯ])|č̭(?![̀-ͯ])|Č̭(?![̀-ͯ])|d(?![̀-ͯ])|D(?![̀-ͯ])|ḍ(?![̀-ͯ])|Ḍ(?![̀-ͯ])|f(?![̀-ͯ])|F(?![̀-ͯ])|g(?![̀-ͯ])|G(?![̀-ͯ])|ġ(?![̀-ͯ])|Ġ(?![̀-ͯ])|h(?![̀-ͯ])|H(?![̀-ͯ])|ḥ(?![̀-ͯ])|Ḥ(?![̀-ͯ])|j(?![̀-ͯ])|J(?![̀-ͯ])|k(?![̀-ͯ])|K(?![̀-ͯ])|k̭(?![̀-ͯ])|K̭(?![̀-ͯ])|l(?![̀-ͯ])|L(?![̀-ͯ])|ḷ(?![̀-ͯ])|Ḷ(?![̀-ͯ])|m(?![̀-ͯ])|M(?![̀-ͯ])|ṃ(?![̀-ͯ])|Ṃ(?![̀-ͯ])|n(?![̀-ͯ])|N(?![̀-ͯ])|p(?![̀-ͯ])|P(?![̀-ͯ])|p̣(?![̀-ͯ])|P̣(?![̀-ͯ])|p̭(?![̀-ͯ])|P̭(?![̀-ͯ])|q(?![̀-ͯ])|Q(?![̀-ͯ])|r(?![̀-ͯ])|R(?![̀-ͯ])|ṛ(?![̀-ͯ])|Ṛ(?![̀-ͯ])|s(?![̀-ͯ])|S(?![̀-ͯ])|š(?![̀-ͯ])|Š(?![̀-ͯ])|ṣ(?![̀-ͯ])|Ṣ(?![̀-ͯ])|t(?![̀-ͯ])|T(?![̀-ͯ])|ṭ(?![̀-ͯ])|Ṭ(?![̀-ͯ])|ṱ(?![̀-ͯ])|Ṱ(?![̀-ͯ])|v(?![̀-ͯ])|V(?![̀-ͯ])|w(?![̀-ͯ])|W(?![̀-ͯ])|x(?![̀-ͯ])|X(?![̀-ͯ])|y(?![̀-ͯ])|Y(?![̀-ͯ])|z(?![̀-ͯ])|Z(?![̀-ͯ])|ž(?![̀-ͯ])|Ž(?![̀-ͯ])|ẓ(?![̀-ͯ])|Ẓ(?![̀-ͯ])|ð(?![̀-ͯ])|Ð(?![̀-ͯ])|ð̣(?![̀-ͯ])|Ð̣(?![̀-ͯ])|ɟ(?![̀-ͯ])|ɟ(?![̀-ͯ])|ʾ(?![̀-ͯ])|ʾ(?![̀-ͯ])|ʿ(?![̀-ͯ])|ʿ(?![̀-ͯ])|θ(?![̀-ͯ])|Θ(?![̀-ͯ])|a(?![̀-ͯ])|A(?![̀-ͯ])|à(?![̀-ͯ])|À(?![̀-ͯ])|á(?![̀-ͯ])|Á(?![̀-ͯ])|ā(?![̀-ͯ])|Ā(?![̀-ͯ])|ă(?![̀-ͯ])|Ă(?![̀-ͯ])|ā̀(?![̀-ͯ])|Ā̀(?![̀-ͯ])|ā́(?![̀-ͯ])|Ā́(?![̀-ͯ])|ằ(?![̀-ͯ])|Ằ(?![̀-ͯ])|ắ(?![̀-ͯ])|Ắ(?![̀-ͯ])|e(?![̀-ͯ])|E(?![̀-ͯ])|è(?![̀-ͯ])|È(?![̀-ͯ])|é(?![̀-ͯ])|É(?![̀-ͯ])|ē(?![̀-ͯ])|Ē(?![̀-ͯ])|ḕ(?![̀-ͯ])|Ḕ(?![̀-ͯ])|ḗ(?![̀-ͯ])|Ḗ(?![̀-ͯ])|i(?![̀-ͯ])|I(?![̀-ͯ])|ì(?![̀-ͯ])|Ì(?![̀-ͯ])|í(?![̀-ͯ])|Í(?![̀-ͯ])|ī(?![̀-ͯ])|Ī(?![̀-ͯ])|ī̀(?![̀-ͯ])|Ī̀(?![̀-ͯ])|ī́(?![̀-ͯ])|Ī́(?![̀-ͯ])|o(?![̀-ͯ])|O(?![̀-ͯ])|ò(?![̀-ͯ])|Ò(?![̀-ͯ])|ó(?![̀-ͯ])|Ó(?![̀-ͯ])|ō(?![̀-ͯ])|Ō(?![̀-ͯ])|ṑ(?![̀-ͯ])|Ṑ(?![̀-ͯ])|ṓ(?![̀-ͯ])|Ṓ(?![̀-ͯ])|u(?![̀-ͯ])|U(?![̀-ͯ])|ù(?![̀-ͯ])|Ù(?![̀-ͯ])|ú(?![̀-ͯ])|Ú(?![̀-ͯ])|ū(?![̀-ͯ])|Ū(?![̀-ͯ])|ŭ(?![̀-ͯ])|Ŭ(?![̀-ͯ])|ū̀(?![̀-ͯ])|Ū̀(?![̀-ͯ])|ū́(?![̀-ͯ])|Ū́(?![̀-ͯ])|ŭ̀(?![̀-ͯ])|Ŭ̀(?![̀-ͯ])|ŭ́(?![̀-ͯ])|Ŭ́(?![̀-ͯ])|ə(?![̀-ͯ])|Ə(?![̀-ͯ])|ə̀(?![̀-ͯ])|Ə̀(?![̀-ͯ])|ə́(?![̀-ͯ])|Ə́(?![̀-ͯ])|ɛ(?![̀-ͯ])|Ɛ(?![̀-ͯ])|ɛ̀(?![̀-ͯ])|Ɛ̀(?![̀-ͯ])|ɛ́(?![̀-ͯ])|Ɛ́(?![̀-ͯ])|ɛ̄(?![̀-ͯ])|Ɛ̄(?![̀-ͯ])'"
      ]
     },
     "execution_count": 24,
     "metadata": {},
     "output_type": "execute_result"
    }
   ],
   "source": [
    "alphabet_re"
   ]
  },
  {
   "cell_type": "markdown",
   "metadata": {},
   "source": [
    "## Testing Sly"
   ]
  },
  {
   "cell_type": "code",
   "execution_count": 36,
   "metadata": {},
   "outputs": [],
   "source": [
    "# class TestLexer(Lexer):\n",
    "#     tokens = {LETTER, SPACE}\n",
    "#     LETTER = '[A-Za-z]'\n",
    "#     SPACE = '\\s'\n",
    "    \n",
    "# class TestParser(Parser):\n",
    "    \n",
    "#     debugfile = 'test_parser.out'\n",
    "#     tokens = TestLexer.tokens\n",
    "    \n",
    "#     @_('word words')\n",
    "#     def words(self, p):\n",
    "#         return [p.word] + p.words\n",
    "    \n",
    "#     @_('word SPACE word')\n",
    "#     def words(self, p):\n",
    "#         return [p.word]\n",
    "    \n",
    "#     @_('letters')\n",
    "#     def word(self, p):\n",
    "#         return {\n",
    "#             'letters': p.letters,\n",
    "#             'punct': '',\n",
    "#         }\n",
    "    \n",
    "#     @_('LETTER letters')\n",
    "#     def letters(self, p):\n",
    "#         return [p.LETTER] + p.letters \n",
    "    \n",
    "#     @_('LETTER')\n",
    "#     def letters(self, p):\n",
    "#         return [p[0]]\n",
    "    \n",
    "    \n",
    "# test_lexer = TestLexer()\n",
    "# test_parser = TestParser()\n",
    "# test_string = 'This is'\n",
    "# test_parser.parse(test_lexer.tokenize(test_string))"
   ]
  },
  {
   "cell_type": "code",
   "execution_count": 9,
   "metadata": {},
   "outputs": [
    {
     "name": "stderr",
     "output_type": "stream",
     "text": [
      "Parser debugging for TestParser written to test_parser.out\n"
     ]
    },
    {
     "data": {
      "text/plain": [
       "[{'letters': ['T', 'h', 'i', 's'], 'punc': ' '},\n",
       " {'letters': ['i', 's'], 'punc': ' '},\n",
       " {'letters': ['a'], 'punc': ' '},\n",
       " {'letters': ['t', 'e', 's', 't']}]"
      ]
     },
     "execution_count": 9,
     "metadata": {},
     "output_type": "execute_result"
    }
   ],
   "source": [
    "class TestLexer(Lexer):\n",
    "    tokens = {LETTER, SPACE}\n",
    "    LETTER = '[A-Za-z]'\n",
    "    SPACE = '\\s'\n",
    "    \n",
    "class TestParser(Parser):\n",
    "    debugfile = 'test_parser.out'\n",
    "    tokens = TestLexer.tokens\n",
    "    \n",
    "    @_('word SPACE words')\n",
    "    def words(self, p):\n",
    "        p.word.update({\"punc\": ' '})\n",
    "        return [p.word] + p.words\n",
    "    \n",
    "    @_('word')\n",
    "    def words(self, p):\n",
    "        return [p.word]\n",
    "    \n",
    "    @_('letters')\n",
    "    def word(self, p):\n",
    "        return {\"letters\":  p.letters}\n",
    "    \n",
    "    @_('LETTER letters')\n",
    "    def letters(self, p):\n",
    "        return [p.LETTER] + p.letters \n",
    "    \n",
    "    @_('LETTER')\n",
    "    def letters(self, p):\n",
    "        return [p[0]]\n",
    "    \n",
    "test_lexer = TestLexer()\n",
    "test_parser = TestParser()\n",
    "test_string = 'This is a test'\n",
    "test_parser.parse(test_lexer.tokenize(test_string))"
   ]
  },
  {
   "cell_type": "markdown",
   "metadata": {},
   "source": [
    "## Example Text\n",
    "\n",
    "Below is a dummy text we can use to test the parsers on."
   ]
  },
  {
   "cell_type": "code",
   "execution_count": 10,
   "metadata": {},
   "outputs": [],
   "source": [
    "example = unicodedata.normalize('NFD', '''\n",
    "dialect: Urmi_C\n",
    "title: When Shall I Die?\n",
    "encoding: UTF8\n",
    "informant: Yulia Davudi\n",
    "interviewer: Geoffrey Khan\n",
    "place: +Hassar +Baba-čanɟa, N\n",
    "transcriber: Geoffrey Khan\n",
    "text_id: A32 \n",
    "\n",
    "(1@0:00) xá-yuma \"⁺malla ⁺Nasrádən\" váyələ tíva ⁺ʾal-k̭èsa.ˈ xá mən-nášə \n",
    "⁺vàrəva,ˈ mə́rrə ⁺màllaˈ ʾátən ʾo-k̭ésa pràmut,ˈ bət-nàplət.ˈ mə́rrə <P: bŏ́ro> \n",
    "bàbaˈ ʾàtən=daˈ ⁺šúla lə̀tluxˈ tíyyət b-dìyyi k̭ítət.ˈ ⁺šúk̭ si-⁺bar-⁺šùlux.ˈ \n",
    "ʾána ⁺šūl-ɟànilə.ˈ náplən nàplən.ˈ (2@0:08) ⁺hàlaˈ ʾo-náša léva xíša xá \n",
    "⁺ʾəsrá ⁺pasulyày,ˈ ⁺málla bitáyələ drúm ⁺ʾal-⁺ʾàrra.ˈ bək̭yámələ ⁺bərxáṱələ \n",
    "⁺bàru.ˈ màraˈ ⁺maxlèta,ˈ ʾátən ⁺dílux ʾána bət-náplənva m-⁺al-ʾilàna.ˈ \n",
    "bas-tánili xázən ʾána ʾíman bət-mètən.ˈ ʾo-náša xzílə k̭at-ʾá ⁺màllaˈ hónu \n",
    "xáč̭č̭a ... ⁺basùrələˈ mə́rrə k̭àtuˈ ⁺maxlèta,ˈ mə̀drə,ˈ «GK: maxlèta?» ⁺rába \n",
    "⁺maxlèta.ˈ mə́rrə k̭at-ʾíman xmártux ⁺ṱlá ɟáhə ⁺ʾarṱàla,ˈ ʾó-yuma mètət.ˈ \n",
    "ʾó-yumət xmártux ⁺ṱlá ɟáhə ⁺ʾarṱàla,ˈ ʾó-yuma mètət.ˈ \n",
    "\n",
    "(3@0:16) ⁺málla múttəva ... ⁺ṱànaˈ ⁺yak̭úyra ⁺ʾal-xmàrta.ˈ ⁺ṱànaˈ mə́ndi \n",
    "⁺rába múttəva ⁺ʾal-xmàrtaˈ ʾu-xmàrtaˈ ⁺báyyava ʾask̭áva ⁺ʾùllul.ˈ\n",
    "ʾu-bas-pòxa ⁺plə́ṱlə mənnó.ˈ ṱə̀r,ˈ ⁺riṱàla.ˈ ⁺málla mə́rrə ʾàha,ˈ ʾána dū́n\n",
    "k̭arbúnə k̭a-myàta.ˈ (4@0:20) xáč̭č̭a=da sə̀k̭laˈ xa-xìta.ˈ ɟánu mudməxxálə\n",
    "⁺ʾal-⁺ʾàrra.ˈ mə̀rrəˈ xína ⁺dā́n mòtila.ˈ ʾē=t-d-⁺ṱlàˈ ⁺málla mə̀tlə.ˈ nàšə,ˈ\n",
    " xuyravàtuˈ xə́šlun tílun mə̀rrunˈ ʾa mù-vadət? k̭a-mú=ivət ⁺tàmma?ˈ mə́rrə \n",
    " xob-ʾána mìtən.ˈ lá bəxzáyətun k̭at-mìtən!ˈ lá mə́rrun ʾat-xàya!ˈ \n",
    " hamzùməvət.ˈ bəšvák̭una ⁺tàmaˈ màraˈ xmàrələ,ˈ lélə ⁺parmùyə.ˈ\n",
    " ''')"
   ]
  },
  {
   "cell_type": "markdown",
   "metadata": {},
   "source": [
    "## Structure of a text with NENA Markup\n",
    "\n",
    "Below is a representation of the tree-like structure of a NENA standard text file. This is the structure that the parser must recognize and reproduce.\n",
    "\n",
    "`+` is used to represent one or more elements.\n",
    "\n",
    "```\n",
    "text\n",
    "  |\n",
    "  metadata block\n",
    "  |  |\n",
    "  |  +attribute\n",
    "  | \n",
    "  text block\n",
    "    |\n",
    "    +paragraph\n",
    "      |   \n",
    "      +line\n",
    "        |\n",
    "        +word\n",
    "          |\n",
    "          +letter\n",
    "```"
   ]
  },
  {
   "cell_type": "markdown",
   "metadata": {},
   "source": [
    "These items will be returned in the following Pythonic representation:"
   ]
  },
  {
   "cell_type": "code",
   "execution_count": 11,
   "metadata": {},
   "outputs": [
    {
     "data": {
      "text/plain": [
       "[[('dialect', 'Urmi_C'), ('title', 'When Shall I Die?'), ('encoding', 'UTF8')],\n",
       " [[[('number', '1'),\n",
       "    ('timestamp', '0:00'),\n",
       "    ('words',\n",
       "     [{'text': 'xá',\n",
       "       'begin': '',\n",
       "       'end': '-',\n",
       "       'lang': 'NENA',\n",
       "       'letters': ('x', 'á')},\n",
       "      {'text': 'bŏ́ro',\n",
       "       'begin': '<P:',\n",
       "       'end': '> ',\n",
       "       'lang': 'P',\n",
       "       'letters': ('b', 'ŏ́', 'r', 'o')}])]]]]"
      ]
     },
     "execution_count": 11,
     "metadata": {},
     "output_type": "execute_result"
    }
   ],
   "source": [
    "[ # text\n",
    "    [ # metadata block\n",
    "        ('dialect', 'Urmi_C'),\n",
    "        ('title', 'When Shall I Die?'),\n",
    "        ('encoding', 'UTF8'),\n",
    "    ],\n",
    "    [ # text block\n",
    "        [ # paragraph\n",
    "            [ # line\n",
    "                ('number', '1'),\n",
    "                ('timestamp', '0:00'),\n",
    "                ('words', [\n",
    "                        { # word\n",
    "                            'text':'xá',\n",
    "                            'begin':'',\n",
    "                            'end':'-',\n",
    "                            'lang':'NENA', \n",
    "                            'letters':('x','á'),\n",
    "                        },\n",
    "                        # ...\n",
    "                        { # foreign word\n",
    "                            'text':'bŏ́ro',\n",
    "                            'begin':'<P:',\n",
    "                            'end': '> ',\n",
    "                            'lang': 'P', \n",
    "                            'letters':('b','ŏ́','r','o'),\n",
    "                        }, \n",
    "                    ],\n",
    "                ),\n",
    "            ],\n",
    "        ],\n",
    "    ],\n",
    "]"
   ]
  },
  {
   "cell_type": "markdown",
   "metadata": {},
   "source": [
    "## Lexer\n",
    "\n",
    "The parser needs as its input 'tokens', which are predefined units of characters. These are provided by the 'lexer'. In Sly (and Ply), tokens are defined as regular expressions, of which the matching string is returned as the token value. If the token is defined as a function (with its regular expression as argument to the `@_` decorator), then the returned value (among other things) can be manipulated. For more detailed information, [see the documentation][slydocs].\n",
    "\n",
    "[slydocs]: https://sly.readthedocs.io/en/latest/sly.html"
   ]
  },
  {
   "cell_type": "code",
   "execution_count": 43,
   "metadata": {},
   "outputs": [],
   "source": [
    "class NenaLexer(Lexer):\n",
    "    \n",
    "    def error(self, t):\n",
    "        \"\"\"Give warning for bad characters\"\"\"\n",
    "        print(f\"Illegal character {repr(t.value[0])} @ index {self.index}\")\n",
    "        self.index += 1\n",
    "    \n",
    "    # set of token names as required by\n",
    "    # the Lexer class\n",
    "    tokens = {\n",
    "        LETTER, PUNCT_BEGIN, PUNCT_END, NEWLINES,\n",
    "        NEWLINE, NEWLINES, ATTRIBUTE, \n",
    "        LANG_START, LANG_END, FOREIGN_LETTER,\n",
    "        LINESTAMP, SPEAKER_START, SPEAKER_END,\n",
    "    }\n",
    "\n",
    "    # Attribute starts key and colon. Returns 2-tuple (key, value).\n",
    "    @_(r'[a-z][a-z0-9_]+: .*')\n",
    "    def ATTRIBUTE(self, t):\n",
    "        t.value = tuple(t.value.split(': '))\n",
    "        return t\n",
    "    \n",
    "    @_(r'\\(\\d+\\@\\d:\\d+\\)\\s*', \n",
    "       r'\\(\\d+\\)\\s*')\n",
    "    def LINESTAMP(self, t):\n",
    "        t.value = t.value.strip()\n",
    "        return t\n",
    "\n",
    "    LETTER = alphabet_re\n",
    "    PUNCT_BEGIN = punct_begin_re\n",
    "    PUNCT_END = punct_end_re\n",
    "    NEWLINES = r'\\n\\s*\\n\\s*' # i.e. marks text-blocks\n",
    "    NEWLINE = r'\\n'\n",
    "    \n",
    "    # Language markers are ASCII letter strings \n",
    "    # surrounded by angle brackets.\n",
    "    LANG_START = r'<[A-Za-z]+:'\n",
    "    LANG_END = r'>'\n",
    "    \n",
    "    @_(r'»')\n",
    "    def SPEAKER_END(self, t):\n",
    "        return t\n",
    "    \n",
    "    @_(r'«[a-z\\sA-Z]+: ')\n",
    "    def SPEAKER_START(self, t):\n",
    "        t.value = re.match(r'«([a-z\\sA-Z]+): ', t.value).group(1)\n",
    "        return t\n",
    "    \n",
    "    # NB: tokens evaluated in order of appearance here\n",
    "    # thus foreign string matched lastly\n",
    "    FOREIGN_LETTER = r'[a-zA-ZðÐɟəƏɛƐʾʿθΘ][\\u0300-\\u033d]*'"
   ]
  },
  {
   "cell_type": "code",
   "execution_count": 44,
   "metadata": {},
   "outputs": [],
   "source": [
    "# demonstration of output results of lexer, to be used by parser below\n",
    "lexer = NenaLexer()\n",
    "\n",
    "tokens = [(tok.type, tok.value) for tok in lexer.tokenize(example)]"
   ]
  },
  {
   "cell_type": "code",
   "execution_count": 45,
   "metadata": {},
   "outputs": [
    {
     "name": "stdout",
     "output_type": "stream",
     "text": [
      "[('NEWLINE', '\\n'),\n",
      " ('ATTRIBUTE', ('dialect', 'Urmi_C')),\n",
      " ('NEWLINE', '\\n'),\n",
      " ('ATTRIBUTE', ('title', 'When Shall I Die?')),\n",
      " ('NEWLINE', '\\n'),\n",
      " ('ATTRIBUTE', ('encoding', 'UTF8')),\n",
      " ('NEWLINE', '\\n'),\n",
      " ('ATTRIBUTE', ('informant', 'Yulia Davudi')),\n",
      " ('NEWLINE', '\\n'),\n",
      " ('ATTRIBUTE', ('interviewer', 'Geoffrey Khan')),\n",
      " ('NEWLINE', '\\n'),\n",
      " ('ATTRIBUTE', ('place', '+Hassar +Baba-čanɟa, N')),\n",
      " ('NEWLINE', '\\n'),\n",
      " ('ATTRIBUTE', ('transcriber', 'Geoffrey Khan')),\n",
      " ('NEWLINE', '\\n'),\n",
      " ('ATTRIBUTE', ('text_id', 'A32 ')),\n",
      " ('NEWLINES', '\\n\\n'),\n",
      " ('LINESTAMP', '(1@0:00)'),\n",
      " ('LETTER', 'x'),\n",
      " ('LETTER', 'á'),\n",
      " ('PUNCT_END', '-'),\n",
      " ('LETTER', 'y'),\n",
      " ('LETTER', 'u'),\n",
      " ('LETTER', 'm')]\n"
     ]
    }
   ],
   "source": [
    "pprint(tokens[:24])"
   ]
  },
  {
   "cell_type": "markdown",
   "metadata": {},
   "source": [
    "### The parser\n",
    "\n",
    "The parser processes the tokens provided by the lexer, and tries to combine them into structured units. Those units are defined in the methods of the `NenaParser` class, with the patterns passed as arguments to the `@_` decorator.\n",
    "\n",
    "The top unit (in this case, `text`) is returned as the result of the parsing."
   ]
  },
  {
   "cell_type": "code",
   "execution_count": 33,
   "metadata": {},
   "outputs": [],
   "source": [
    "\n",
    "    # build words with their associated punctuators\n",
    "#     @_('begins letters ends')\n",
    "#     def word(self, p):\n",
    "#         print(p.letters)\n",
    "#         return {\n",
    "#             'word': ''.join(p.letters),\n",
    "#             'letters': p.letters,\n",
    "#             'punct_begin': p.begins,\n",
    "#             'punct_end': p.ends,\n",
    "#         }\n",
    "    \n",
    "#     @_('begins letters')\n",
    "#     def word(self, p):\n",
    "#         print(p.letters)\n",
    "#         return {\n",
    "#             'word': ''.join(p.letters),\n",
    "#             'letters': p.letters,\n",
    "#             'punct_begin': p.begins,\n",
    "#             'punct_end': '',\n",
    "#         }"
   ]
  },
  {
   "cell_type": "code",
   "execution_count": 51,
   "metadata": {},
   "outputs": [
    {
     "name": "stderr",
     "output_type": "stream",
     "text": [
      "WARNING: Token(s) {LANG_END,NEWLINES,NEWLINE,LANG_START,SPEAKER_START,SPEAKER_END,ATTRIBUTE} defined, but not used\n",
      "WARNING: There are 7 unused tokens\n",
      "Parser debugging for NenaParser written to nena_parser.out\n"
     ]
    },
    {
     "data": {
      "text/plain": [
       "['(1@0:00)',\n",
       " [{'word': 'xá', 'letters': ['x', 'á'], 'beginnings': '', 'endings': ['-']},\n",
       "  {'word': 'yuma',\n",
       "   'letters': ['y', 'u', 'm', 'a'],\n",
       "   'beginnings': '',\n",
       "   'endings': [' ']},\n",
       "  {'word': 'malla',\n",
       "   'letters': ['m', 'a', 'l', 'l', 'a'],\n",
       "   'beginnings': ['\"', '⁺'],\n",
       "   'endings': [' ']},\n",
       "  {'word': 'Nasrádən',\n",
       "   'letters': ['N', 'a', 's', 'r', 'á', 'd', 'ə', 'n'],\n",
       "   'beginnings': ['⁺'],\n",
       "   'endings': ['\"', ' ']},\n",
       "  {'word': 'váyələ',\n",
       "   'letters': ['v', 'á', 'y', 'ə', 'l', 'ə'],\n",
       "   'beginnings': '',\n",
       "   'endings': [' ']},\n",
       "  {'word': 'tíva',\n",
       "   'letters': ['t', 'í', 'v', 'a'],\n",
       "   'beginnings': '',\n",
       "   'endings': ''}]]"
      ]
     },
     "execution_count": 51,
     "metadata": {},
     "output_type": "execute_result"
    }
   ],
   "source": [
    "\n",
    "class NenaParser(Parser):\n",
    "    \n",
    "    debugfile = 'nena_parser.out'\n",
    "    tokens = NenaLexer.tokens\n",
    "\n",
    "    @_('LINESTAMP words')\n",
    "    def line(self, p):\n",
    "        return [p.LINESTAMP, p.words]\n",
    "    \n",
    "    @_('word endings words')\n",
    "    def words(self, p):\n",
    "        p.word['endings'] = p.endings\n",
    "        return [p.word] + p.words\n",
    "    \n",
    "    @_('word')\n",
    "    def words(self, p):\n",
    "        return [p.word]\n",
    "\n",
    "    @_('letters', 'beginnings letters')\n",
    "    def word(self, p):\n",
    "        beginnings = getattr(p, 'beginnings', '')\n",
    "        return {\n",
    "            'word': ''.join(p.letters),\n",
    "            'letters': p.letters,\n",
    "            'beginnings': beginnings,\n",
    "            'endings': '',\n",
    "        }\n",
    "    \n",
    "    @_('PUNCT_BEGIN beginnings')\n",
    "    def beginnings(self, p):\n",
    "        return [p.PUNCT_BEGIN] + p.beginnings\n",
    "    \n",
    "    @_('PUNCT_BEGIN')\n",
    "    def beginnings(self, p):\n",
    "        return [p.PUNCT_BEGIN]\n",
    "    \n",
    "    @_('PUNCT_END endings')\n",
    "    def endings(self, p):\n",
    "        return [p.PUNCT_END] + p.endings\n",
    "    \n",
    "    @_('PUNCT_END')\n",
    "    def endings(self, p):\n",
    "        return [p.PUNCT_END]\n",
    "        \n",
    "    @_('LETTER letters', \n",
    "       'FOREIGN_LETTER letters')\n",
    "    def letters(self, p):\n",
    "        return [p[0]] + p[1]\n",
    "    \n",
    "    @_('LETTER', \n",
    "       'FOREIGN_LETTER')\n",
    "    def letters(self, p):\n",
    "        return [p[0]]\n",
    "                        \n",
    "nena_test = unicodedata.normalize('NFD', '(1@0:00) xá-yuma \"⁺malla ⁺Nasrádən\" váyələ tíva')\n",
    "         \n",
    "# demonstration of output results of parser, to be used by generate_TF loop\n",
    "parser = NenaParser()\n",
    "parser.parse(lexer.tokenize(nena_test))"
   ]
  },
  {
   "cell_type": "code",
   "execution_count": null,
   "metadata": {},
   "outputs": [],
   "source": [
    "    @_('PUNCT_END ends')\n",
    "    def ends(self, p):\n",
    "        return [p.PUNCT_END] + p.ends\n",
    "    \n",
    "    @_('PUNCT_END')\n",
    "    def ends(self, p):\n",
    "        return [p.PUNCT_END]\n",
    "       \n",
    "    @_('PUNCT_BEGIN begins')\n",
    "    def begins(self, p):\n",
    "        return [p.PUNCT_BEGIN] + p.begins\n",
    "    \n",
    "    @_('PUNCT_BEGIN')\n",
    "    def begins(self, p):\n",
    "        return [p.PUNCT_BEGIN]"
   ]
  },
  {
   "cell_type": "code",
   "execution_count": null,
   "metadata": {},
   "outputs": [],
   "source": [
    "#    \n",
    "\n",
    "#     precedence = (\n",
    "#         ('left', CLUSTER),\n",
    "#         ('left', CLUSTERED),\n",
    "#     )\n",
    "    \n",
    "#     @_('letters SPACE', \n",
    "#        'letters %prec CLUSTERED')\n",
    "#     def word(self, p):\n",
    "\n",
    "    \n",
    "#     @_('letters letters %prec CLUSTER')\n",
    "#     def letters(self, p):\n",
    "#         return p[0] + p[1]"
   ]
  },
  {
   "cell_type": "code",
   "execution_count": 97,
   "metadata": {},
   "outputs": [],
   "source": [
    "def get_string_data(string, str_data):\n",
    "    \"\"\"Match a string to its correlated data.\n",
    "    \n",
    "    A \"string\" can be a letter or a punctuator.\n",
    "    \n",
    "    Args:\n",
    "        string: str to be matched with data\n",
    "        str_data: dict of data for strings where each key\n",
    "            is a compiled regex object that matches\n",
    "            a given letter to a dict of data (the values).\n",
    "            \n",
    "    Returns:\n",
    "        dict of letter data\n",
    "    \"\"\"\n",
    "    for str_pattern, data in str_data.items():\n",
    "        if str_pattern.match(string):\n",
    "            return data"
   ]
  },
  {
   "cell_type": "code",
   "execution_count": 5,
   "metadata": {},
   "outputs": [],
   "source": [
    "class NenaParser(Parser):\n",
    "\n",
    "    # Get the token list from the lexer (required)\n",
    "    tokens = NenaLexer.tokens\n",
    "    "
   ]
  },
  {
   "cell_type": "code",
   "execution_count": null,
   "metadata": {},
   "outputs": [],
   "source": [
    "# demonstration of output results of parser, to be used by generate_TF loop\n",
    "parser = NenaParser()\n",
    "parser.parse(lexer.tokenize(parser_test))"
   ]
  },
  {
   "cell_type": "markdown",
   "metadata": {},
   "source": [
    "### Parser output\n",
    "\n",
    "The parser prints a warning that there were shift/reduce conflicts, probably caused by ambiguous whitespace. That is not a problem (although not very elegant, ideally it should be fixed). The parser resolves the conflicts automatically.\n",
    "\n",
    "The output of the example text shows that the parser succeeded to parse it, and structure it into heading, paragraphs, lines and morphemes, with the features stored in the Morpheme object."
   ]
  },
  {
   "cell_type": "markdown",
   "metadata": {},
   "source": [
    "## Testing with Real Texts"
   ]
  },
  {
   "cell_type": "code",
   "execution_count": null,
   "metadata": {},
   "outputs": [],
   "source": [
    "from pathlib import Path"
   ]
  },
  {
   "cell_type": "code",
   "execution_count": null,
   "metadata": {},
   "outputs": [],
   "source": [
    "# paths\n",
    "data_dir = Path('../nena/0.01')\n",
    "dialect_dirs = list(Path(data_dir).glob('*'))"
   ]
  },
  {
   "cell_type": "markdown",
   "metadata": {},
   "source": [
    "### Run Parse On All Texts"
   ]
  },
  {
   "cell_type": "code",
   "execution_count": null,
   "metadata": {},
   "outputs": [],
   "source": [
    "name2parsed = {}\n",
    "name2text = {}\n",
    "not_parsed = []\n",
    "\n",
    "ignore = [\n",
    "    #'The Adventures Of Two Brothers.nena', # FIX BY MOVING UNEMPHASIZED OUT\n",
    "]\n",
    "\n",
    "for dialect in dialect_dirs:\n",
    "    print(f'--Dialect {dialect}--')\n",
    "    print()\n",
    "    for file in sorted(dialect.glob('*.nena')):\n",
    "        \n",
    "        if file.name in ignore:\n",
    "            print('SKIPPING:', file.name, '\\n')\n",
    "            not_parsed.append(file)\n",
    "            continue\n",
    "        \n",
    "        with open(file, 'r') as infile:\n",
    "            text = infile.read()\n",
    "            name2text[file.name] = text\n",
    "            print(f'trying: {file.name}')\n",
    "            parseit = parser.parse(lexer.tokenize(text))\n",
    "            print(f'\\t√')\n",
    "            name2parsed[file.name] = parseit\n",
    "                \n",
    "print(len(name2parsed), 'parsed...')\n",
    "print(len(not_parsed), 'not parsed...')"
   ]
  },
  {
   "cell_type": "code",
   "execution_count": null,
   "metadata": {},
   "outputs": [],
   "source": [
    "#name2text['A Man Called Čuxo.nena'][7100:7120]"
   ]
  }
 ],
 "metadata": {
  "kernelspec": {
   "display_name": "Python 3",
   "language": "python",
   "name": "python3"
  },
  "language_info": {
   "codemirror_mode": {
    "name": "ipython",
    "version": 3
   },
   "file_extension": ".py",
   "mimetype": "text/x-python",
   "name": "python",
   "nbconvert_exporter": "python",
   "pygments_lexer": "ipython3",
   "version": "3.8.0"
  }
 },
 "nbformat": 4,
 "nbformat_minor": 4
}
